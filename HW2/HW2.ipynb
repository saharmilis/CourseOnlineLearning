{
 "cells": [
  {
   "cell_type": "markdown",
   "metadata": {},
   "source": [
    "# Data Streaming & Online Learning - HW2\n",
    "by Millis Sahar, ID 300420379"
   ]
  },
  {
   "cell_type": "markdown",
   "metadata": {},
   "source": [
    "*You can assume all norms in this HW are Euclidean\n",
    "norm ||. . ||𝟐 as discussed in class"
   ]
  },
  {
   "cell_type": "markdown",
   "metadata": {},
   "source": [
    "## Question 1: JL and Large Margin Learning\n",
    "\n",
    "Assume 𝐴 ∈ $𝑅^{𝑘⋅𝑑}$ is drawn from a JL distribution. \n",
    "As a reminder from class, this means that for all x ∈ $R^d$ and ε < 0.5, with probability at least 1 − $2𝑒^{−𝑐𝜖^2𝑘}$\n",
    "\n",
    "$$(1 − 𝜀)\\big|\\big|𝑥\\big|\\big| ≤ \\big|\\big|𝐴𝑥\\big|\\big| ≤ (1 + 𝜀)\\big|\\big|𝑥\\big|\\big|$$\n",
    "\n",
    "(Where c is some global constant).\n",
    "\n",
    "##### Prove that:\n",
    "For any x,y ∈ $R^d$ with ||𝑥|| = ||𝑦|| = 1, and for all 𝜀 < 0.5, with probability at least 𝟏 − $𝟒𝒆^{−𝒄𝝐^𝟐𝒌}$ :\n",
    "\n",
    "$ 𝑥^𝑡𝑦 − 𝜀 ≤ (𝐴𝑥)^𝑡(𝐴𝑦) ≤ 𝑥^𝑡𝑦 + 𝜀  $  \n",
    "(Where $𝑣^𝑡$ is transpose of a vector).\n",
    "\n",
    "\n",
    "Namely, in this question you show that JL preserves dot-products within vectors.  \n",
    "Hint: recall that $\\big|\\big|𝑥\\big|\\big|^2 = 𝑥^𝑇𝑥 = < 𝑥, 𝑥>$ ,  and specifically (show why!) $4(𝐴𝑥)^𝑇(𝐴𝑦) = \\big|\\big|𝐴(𝑥 + 𝑦)\\big|\\big|^2− \\big|\\big|𝐴(𝑥 − 𝑦)\\big|\\big|^2$\n"
   ]
  },
  {
   "cell_type": "markdown",
   "metadata": {},
   "source": [
    "### Answer:\n",
    "\n",
    "First I tried to understand what $(Ax)^T(Ay)$ is... And by looking at the hint I can see that I'll have to use JL for x+y and x-y.   \n",
    "Also, as the hint suggested, I'll have to show that $4(𝐴𝑥)^𝑇(𝐴𝑦) = \\big|\\big|𝐴(𝑥 + 𝑦)\\big|\\big|^2− \\big|\\big|𝐴(𝑥 − 𝑦)\\big|\\big|^2$ .  \n",
    "And from the other hint $\\big|\\big|𝑥\\big|\\big|^2 = 𝑥^𝑇𝑥 = < 𝑥, 𝑥>$ , I'll also need to use another veriation of it $\\big|\\big|a\\big|\\big| \\space \\big|\\big|b\\big|\\big| = a^𝑇b = < a, b>$\n",
    "\n",
    "\n",
    "##### Step 1: JL lemma on x+y\n",
    "$(1-\\epsilon)\\big|\\big| x+y \\big|\\big| \\leq \\big|\\big|A(x+y)\\big|\\big|  \\leq (1+\\epsilon) \\big|\\big| (x+y) \\big|\\big|$  \n",
    "Also, $(1-\\epsilon)\\big|\\big| x+y {\\big|\\big|}^2 \\leq \\big|\\big|A(x+y){\\big|\\big|}^2  \\leq (1+\\epsilon) \\big|\\big| (x+y) {\\big|\\big|}^2$  \n",
    "\n",
    "##### Step 2 : JL lemma on x-y\n",
    "$(1-\\epsilon)\\big|\\big| x-y \\big|\\big| \\leq \\big|\\big|A(x-y)\\big|\\big|  \\leq (1+\\epsilon) \\big|\\big| (x-y) \\big|\\big|$  \n",
    "Also, $(1-\\epsilon)\\big|\\big| x-y {\\big|\\big|}^2 \\leq \\big|\\big|A(x-y){\\big|\\big|}^2  \\leq (1+\\epsilon) \\big|\\big| (x-y) {\\big|\\big|}^2$  \n",
    "\n",
    "##### Step 3: Show that $4(𝐴𝑥)^𝑇(𝐴𝑦) = \\big|\\big|𝐴(𝑥 + 𝑦)\\big|\\big|^2− \\big|\\big|𝐴(𝑥 − 𝑦)\\big|\\big|^2$\n",
    "$ 4(𝐴𝑥)^𝑇(𝐴𝑦) = $  \n",
    "\n",
    "$ = 4 <Ax,Ay> = $  \n",
    "\n",
    "$ = 4 \\big|\\big| Ax \\big|\\big| \\space \\big|\\big| Ay \\big|\\big| = $   \n",
    "\n",
    "$ = 4 \\big|\\big| Ax \\big|\\big| \\space \\big|\\big| Ay \\big|\\big| + \\big|\\big| Ax \\big|\\big|^2 - \\big|\\big| Ax \\big|\\big|^2 + \\big|\\big| Ay \\big|\\big|^2 - \\big|\\big| Ay \\big|\\big|^2 = $  \n",
    "\n",
    "$ = 2 \\big|\\big| Ax \\big|\\big| \\space \\big|\\big| Ay \\big|\\big| + 2 \\big|\\big| Ax \\big|\\big| \\big|\\big| Ay \\big|\\big| + \\big|\\big| Ax \\big|\\big|^2 - \\big|\\big| Ax \\big|\\big|^2 + \\big|\\big| Ay \\big|\\big|^2 - \\big|\\big| Ay \\big|\\big|^2 = $  \n",
    "\n",
    "$ = \\big|\\big| Ax \\big|\\big|^2 + 2 \\big|\\big| Ax \\big|\\big| \\space \\big|\\big| Ay \\big|\\big| + \\big|\\big| Ay \\big|\\big|^2 - \\big|\\big| Ax \\big|\\big|^2 + 2 \\big|\\big| Ax \\big|\\big| \\space \\big|\\big| Ay \\big|\\big| - \\big|\\big| Ay \\big|\\big|^2 = $  \n",
    "\n",
    "$ = \\big|\\big| Ax \\big|\\big|^2 + 2 \\big|\\big| Ax \\big|\\big| \\space \\big|\\big| Ay \\big|\\big| + \\big|\\big| Ay \\big|\\big|^2 -\\bigg( \\big|\\big| Ax \\big|\\big|^2 - 2 \\big|\\big| Ax \\big|\\big| \\space \\big|\\big| Ay \\big|\\big| + \\big|\\big| Ay \\big|\\big|^2 \\bigg)= $  \n",
    "\n",
    "$ = \\big|\\big| Ax+ay {\\big|\\big|}^2 \\space - \\space \\big|\\big| Ax-ay {\\big|\\big|}^2 $  \n",
    "Done!"
   ]
  },
  {
   "cell_type": "markdown",
   "metadata": {},
   "source": [
    "##### Step 4 :  I'll porve $\\space\\space −𝑥^𝑡𝑦 − 𝜀 ≤ (𝐴𝑥)^𝑡(𝐴𝑦) ≤ 𝑥^𝑡𝑦 + 𝜀  \\space\\space$ and  I'll use use steps 1 2 3  to prove  that\n",
    "\n",
    "- Left side $\\space \\space -𝑥^𝑡𝑦 − 𝜀 ≤ (𝐴𝑥)^𝑡(𝐴𝑦)$  \n",
    "$(𝐴𝑥)^𝑡(𝐴𝑦) \\geq $  \n",
    "$ \\geq 0.25 \\bigg[ \\big|\\big| Ax+ay {\\big|\\big|}^2 \\space - \\space \\big|\\big| Ax-ay {\\big|\\big|}^2 \\bigg] \\geq $  \n",
    "In order to make it smaller I'll choose to bound positive element with a low bound, and the negative element with a high bound  \n",
    "$ \\geq 0.25 \\bigg[ (1-\\epsilon)\\big|\\big| x+y {\\big|\\big|}^2 - (1+\\epsilon)\\big|\\big| x-y {\\big|\\big|}^2 \\bigg] \\geq $  \n",
    "$ \\geq 0.25 \\bigg[ (1-\\epsilon)\\big( ||x||^2 +2||x||\\space||y|| + ||y||^2 \\big) - (1+\\epsilon)\\big( ||x||^2 - 2||x||\\space||y||+||y||^2 \\big) \\bigg] \\geq $  \n",
    "$ \\geq 0.25 \\bigg[ ||x||^2 +2||x||\\space||y|| + ||y||^2 - \\big(||x||^2 - 2||x||\\space||y||+||y||^2\\big) +(-\\epsilon)\\big( ||x||^2 +2||x||\\space||y|| + ||y||^2 \\big) - (\\epsilon)\\big( ||x||^2 - 2||x||\\space||y||+||y||^2 \\big) \\bigg] \\geq $  \n",
    "$ \\geq 0.25 \\bigg[ 2||x||\\space||y|| + 2||x||\\space||y|| -\\epsilon\\big( ||x||^2 +2||x||\\space||y|| + ||y||^2 \\big) - \\epsilon\\big( ||x||^2 - 2||x||\\space||y||+||y||^2 \\big) \\bigg] \\geq $  \n",
    "$ \\geq 0.25 \\bigg[ 4||x||\\space||y|| -\\epsilon||x||^2 -\\epsilon2||x||\\space||y|| -\\epsilon||y||^2-\\epsilon||x||^2 +\\epsilon2||x||\\space||y||-\\epsilon||y||^2 \\bigg] \\geq $  \n",
    "$ \\geq 0.25 \\bigg[ 4||x||\\space||y|| -2\\epsilon||x||^2 -2\\epsilon||y||^2 \\bigg] \\geq $  \n",
    "$ \\geq 0.25 \\bigg[ 4||x||\\space||y|| -2\\epsilon\\big(1\\big) -2\\epsilon\\big(1\\big) \\bigg] \\geq $  \n",
    "$ \\geq 0.25 \\bigg[ 4||x||\\space||y|| -2\\epsilon -2\\epsilon \\bigg] \\geq $  \n",
    "$ \\geq 0.25 \\bigg[ 4||x||\\space||y|| -4\\epsilon \\bigg] \\geq $  \n",
    "$ \\geq 0.25*4 \\bigg[ ||x||\\space||y|| -\\epsilon \\bigg] \\geq $  \n",
    "$ \\geq \\big|\\big|x\\big|\\big|\\space\\big|\\big|y\\big|\\big| -\\epsilon \\geq $  \n",
    "$ \\geq \\space \\big<x,y\\big> -\\epsilon \\geq $  \n",
    "$ \\geq x^Ty -\\epsilon$  \n",
    "Done!"
   ]
  },
  {
   "cell_type": "markdown",
   "metadata": {},
   "source": [
    "- right side $\\space \\space (𝐴𝑥)^𝑡(𝐴𝑦) ≤ 𝑥^𝑡𝑦 + 𝜀$   (almost the exact same way)  \n",
    "$(𝐴𝑥)^𝑡(𝐴𝑦) \\leq $   \n",
    "$ \\leq 0.25 \\bigg[ \\big|\\big| Ax+ay {\\big|\\big|}^2 \\space - \\space \\big|\\big| Ax-ay {\\big|\\big|}^2 \\bigg] \\leq $    \n",
    "In order to make it bigger I'll choose to bound positive element with a high bound, and the negative element with a low bound   \n",
    "$ \\leq 0.25 \\bigg[ (1+\\epsilon)\\big|\\big| x+y {\\big|\\big|}^2 - (1-\\epsilon)\\big|\\big| x-y {\\big|\\big|}^2 \\bigg] \\leq $   \n",
    "$ \\leq 0.25 \\bigg[ (1+\\epsilon)\\big( ||x||^2 +2||x||\\space||y|| + ||y||^2 \\big) - (1-\\epsilon)\\big( ||x||^2 - 2||x||\\space||y||+||y||^2 \\big) \\bigg] \\leq $  \n",
    "$ \\leq 0.25 \\bigg[ ||x||^2 +2||x||\\space||y|| + ||y||^2 - \\big(||x||^2 - 2||x||\\space||y||+||y||^2\\big) +(\\epsilon)\\big( ||x||^2 +2||x||\\space||y|| + ||y||^2 \\big) - (-\\epsilon)\\big( ||x||^2 - 2||x||\\space||y||+||y||^2 \\big) \\bigg] \\leq $  \n",
    "$ \\leq 0.25 \\bigg[ 2||x||\\space||y|| + 2||x||\\space||y|| +\\epsilon\\big( ||x||^2 +2||x||\\space||y|| + ||y||^2 \\big) + \\epsilon\\big( ||x||^2 - 2||x||\\space||y||+||y||^2 \\big) \\bigg] \\leq $  \n",
    "$ \\leq 0.25 \\bigg[ 4||x||\\space||y|| +\\epsilon||x||^2 +\\epsilon2||x||\\space||y|| +\\epsilon||y||^2+\\epsilon||x||^2 -\\epsilon2||x||\\space||y||+\\epsilon||y||^2 \\bigg] \\leq $  \n",
    "$ \\leq 0.25 \\bigg[ 4||x||\\space||y|| +2\\epsilon||x||^2 +2\\epsilon||y||^2 \\bigg] \\leq $  \n",
    "$ \\leq 0.25 \\bigg[ 4||x||\\space||y|| +2\\epsilon\\big(1\\big) +2\\epsilon\\big(1\\big) \\bigg] \\leq $  \n",
    "$ \\leq 0.25 \\bigg[ 4||x||\\space||y|| +2\\epsilon +2\\epsilon \\bigg] \\leq $  \n",
    "$ \\leq 0.25 \\bigg[ 4||x||\\space||y|| +4\\epsilon \\bigg] \\leq $  \n",
    "$ \\leq 0.25*4 \\bigg[ ||x||\\space||y|| +\\epsilon \\bigg] \\leq $  \n",
    "$ \\leq \\big|\\big|x\\big|\\big|\\space\\big|\\big|y\\big|\\big| +\\epsilon \\leq $  \n",
    "$ \\leq \\space \\big<x,y\\big> +\\epsilon \\leq $  \n",
    "$ \\leq x^Ty +\\epsilon $  \n",
    "Done!\n"
   ]
  },
  {
   "cell_type": "markdown",
   "metadata": {},
   "source": [
    "##### Conclusion: from step 4 I proved that\n",
    "$ 𝑥^𝑡𝑦 − 𝜀 ≤ (𝐴𝑥)^𝑡(𝐴𝑦) ≤ 𝑥^𝑡𝑦 + 𝜀  $  "
   ]
  },
  {
   "cell_type": "markdown",
   "metadata": {},
   "source": [
    "## Question 1: Part (b) JL and Large Margin Learning\n",
    "\n",
    "Let 𝑋 = 𝑋_0 ∪ 𝑋_1 ⊆ $𝑅^𝑑$ be a finite dataset of points, with 𝑋_0 ∩ 𝑋_1 = ∅.  \n",
    "Let n = |x| denote the cardinality (number of distinct elements) and 𝜌(𝑋) = 𝑚𝑎𝑥{ ||𝑥|| ∶ 𝑥 ∈ 𝑋} be the radius of the dataset.  \n",
    "\n",
    "We say that the dataset is linearly separable if there exists 𝑤 ∈ $𝑅^𝑑$   \n",
    "such that ∀𝑥 ∈ $𝑋_1$ ∶ $𝑤^𝑡$𝑥 > 1 𝒂𝒏𝒅 ∀𝑥 ∈ $𝑋_0$ ∶ $𝑤^𝑡$𝑥 < −1  \n",
    "\n",
    "If w satisfies these 2 conditions,   \n",
    "then we say that w linearly separates $𝑋_0$\n",
    ",$𝑋_1$ with margin 𝛾 = 1/ ||𝑤|| .  \n",
    "\n",
    "<br>\n",
    "\n",
    "Now: assume that X is linearly separable with margin γ.   \n",
    "Prove that: if 𝑘 = $𝛩\\bigg((\\frac{𝜌(𝑋)}{𝛾})^2𝑙𝑜𝑔𝑛\\bigg)$ , then with probability at least 0.9,   \n",
    "the dataset 𝐴𝑋 = 𝐴$𝑋_0$ ∪ 𝐴$𝑋_1$ is separable with margin γ’ satisfying $\\frac{𝜌(𝐴𝑋)}{𝛾′}≥ \\frac{1}{2} frac{𝜌(𝑋)}{𝛾}$ .  \n",
    "\n",
    "<br>\n",
    "\n",
    "(The notation AX is shorthand for {Ax : x ∈ X}.)  \n",
    "\n",
    "Hint: show that 𝑤′ = 𝐴𝑤 is the required linear separator and use part (a) of this question (specifically, the success probability should be 𝟏 − 𝟒𝒆−𝒄𝝐𝟐𝒌 > 𝟎.𝟗) in order to prove the inequality $\\frac{𝜌(𝐴𝑋)}{𝛾′}≥ \\frac{1}{2} frac{𝜌(𝑋)}{𝛾}$ .  "
   ]
  },
  {
   "cell_type": "code",
   "execution_count": null,
   "metadata": {},
   "outputs": [],
   "source": []
  },
  {
   "cell_type": "markdown",
   "metadata": {},
   "source": [
    "<br><br><br><br><br><br><br><br><br>"
   ]
  },
  {
   "cell_type": "markdown",
   "metadata": {},
   "source": [
    "## Question 2: RIP (Restricted Isometry Property)\n",
    "\n",
    "Let 𝐴 ∈ $𝑅^{𝑚⋅𝑠}$ be a matrix.   \n",
    "We shall see in class that A satisfies RIP with parameters (s, δ),  \n",
    "if for any x ∈ $R^d$ that is s-sparse (=has at most s non-zero coordinates),  \n",
    "$$(1 − 𝛿)\\big|\\big|𝑥\\big|\\big| ≤ \\big|\\big|𝐴𝑥\\big|\\big| ≤ (1 + 𝛿)\\big|\\big|𝑥\\big|\\big|$$  \n",
    "\n",
    "Accordingly, we define δA(s) as 𝒔𝒎𝒂𝒍𝒍𝒆𝒔𝒕 𝜹 𝒔𝒖𝒄𝒉 𝒕𝒉𝒂𝒕 𝑨 𝒔𝒂𝒕𝒊𝒔𝒇𝒊𝒆𝒔 𝑹𝑰𝑷 𝒘𝒊𝒕𝒉 𝒑𝒂𝒓𝒂𝒎𝒆𝒕𝒆𝒓𝒔 (𝒔, 𝜹).\n"
   ]
  },
  {
   "cell_type": "markdown",
   "metadata": {},
   "source": [
    "##### 1. In this problem you will show that if A is a JL matrix, then with high probability it also satisfies RIP for certain properly chosen parameters s,δ.  \n",
    "For the purpose of the exercise, you can assume (for simplicity) that A is drawn from a standard JL distribution (as shown in Lecture #5).  \n",
    "\n",
    "This implies, recall from class, that for any x ∈ $R^d$ such that ||𝑥|| = 1 and for all 𝜀 <0.5 \n",
    "$$𝑃𝑟𝑜𝑏 \\space \\bigg[\\big|\\big|𝐴𝑥\\big|\\big| ∉ \\big[(1 − 𝜀)\\big|\\big|𝑥\\big|\\big|, (1 + 𝜀)\\big|\\big|𝑥\\big|\\big|\\big]\\bigg] ≤ 2𝑒^{−𝑐𝜖^2𝑚} $$\n",
    "for some global c > 0.\n",
    "\n",
    "Complete the following claim using the sharpest bound you can find:  \n",
    "For all $𝑠<\\frac{𝑚}{log 𝑑}$ with probability at least 0.9, δA(s) ≤ ___ .  \n",
    "\n",
    "Prove your claim.  \n",
    "Hint: An s-sparse vector is contained in a union of a finite number (how many?) of sdimensional subspaces of $R^d$"
   ]
  },
  {
   "cell_type": "markdown",
   "metadata": {},
   "source": [
    "### Answer\n",
    "\n",
    "I know that $𝑃𝑟𝑜𝑏 \\space \\bigg[\\big|\\big|𝐴𝑥\\big|\\big| ∉ \\big[(1 − 𝜀)\\big|\\big|𝑥\\big|\\big|, (1 + 𝜀)\\big|\\big|𝑥\\big|\\big|\\big]\\bigg] ≤ 2𝑒^{−𝑐𝜖^2𝑚} $  \n",
    "This means that $𝑃𝑟𝑜𝑏\\bigg[\\big|\\big|Ax\\big|\\big| > (1+\\epsilon) \\space\\space or \\space\\space \\big|\\big|Ax\\big|\\big|<(1-\\epsilon)\\big|\\big|x\\big|\\big|\\bigg] > 1-2e^{-c\\epsilon^2m} $  \n",
    "In which case RIP is not satisfied since a vector with 1 in only a single index is 1-sparse and it's norm is 1.\n",
    "So I want to solve this  $ 1-2e^{-c\\epsilon^2m} = 0.1 $  \n",
    "\n",
    "$ 1-2e^{-c\\epsilon^2m} = 0.1 $  \n",
    "$ 1-0.1 = 2e^{-c\\epsilon^2m}$  \n",
    "$ 0.9 = 2e^{-c\\epsilon^2m}$  \n",
    "$ 0.45 = e^{-c\\epsilon^2m}$  \n",
    "$ ln\\big(0.45\\big) = ln\\big(e^{-c\\epsilon^2m}\\big)$  \n",
    "$ ln\\big(0.45\\big) = -c\\epsilon^2m$  \n",
    "\n",
    "$ \\frac{ln0.45}{-cm} = \\epsilon^2$   \n",
    "\n",
    "$ \\frac{ln0.45}{-cm} = \\epsilon^2$   \n",
    "\n",
    "$ \\epsilon = \\sqrt{ \\frac{ln0.45}{-cm}} \\approx \\frac{0.8}{-cm}$   and this is the bound.\n",
    "\n",
    "\n",
    "\n"
   ]
  },
  {
   "cell_type": "markdown",
   "metadata": {},
   "source": [
    "##### 2. Assume A has RIP with parameters 2s, δ for some s > 1 and δ < 1.   \n",
    "Let $𝑥_0$ ∈ $𝑅^𝑑$ be some s-sparse vector (=has at most s non-zero coordinates), and let 𝑦 = $𝐴𝑥_0$.   \n",
    "Prove that $𝑥_0$ is the unique solution to the equation system:  \n",
    "$$ 𝒚 = 𝑨𝒙 \\space\\space  𝒔.𝒕. \\space\\space \\big|\\big|𝒙_𝟎\\big|\\big| ≤ 𝒔 $$  \n",
    "\n",
    "(Reminder: ||𝒙𝟎|| is the number of nonzero coordinates of x)  \n",
    "Hint: If there were another different solution 𝑥′ what can you say about 𝑥0 − 𝑥′?"
   ]
  },
  {
   "cell_type": "markdown",
   "metadata": {},
   "source": [
    "### Answer\n",
    "\n",
    "The Idea will be to assume that there's an alternative sulotion, which means that it's not a unique solution, and then it will contradict the question's data.  \n",
    "\n",
    "##### Assumption \n",
    "$\\text{x' is a solution to y=Ax while }$ $\\big|\\big|x'\\big|\\big| \\leq s \\space\\space\\space and$ $\\space\\space\\space\\space x_0-x' \\neq 0 \\space\\space\\space\\Rightarrow\\space\\space\\space x_0 \\neq x'$  \n",
    "Also, due to $x_0$ and x' being a solution to y=Ax then\n",
    "$\\big|\\big| Ax - Ax_0 \\big|\\big| = y$\n",
    "$\\big|\\big| Ax - Axw \\big|\\big| = y$\n",
    "so\n",
    "\n",
    "##### Step 1: \n",
    "Because $\\big|\\big|x_0\\big|\\big| \\leq s $ and $\\big|\\big|x'\\big|\\big| \\leq s$ $\\space\\space\\Rightarrow\\space\\space$ $2s \\geq \\big|\\big|x_0+x'\\big|\\big| \\geq \\big|\\big|x_0-x'\\big|\\big|$ \n",
    "\n",
    "#### Step 2:\n",
    "As given, A satisfies RIP with parameters 2s,$\\delta\\space\\space\\space\\Rightarrow \\space\\space\\space\\space(1-\\delta)\\big|\\big|x_0-x'\\big|\\big| \\leq \\big|\\big|A(x-x')\\big|\\big| \\leq (1+\\delta)\\big|\\big|x_0-x'\\big|\\big| $  \n",
    "But due to x' is a solution of y=Ax $\\space\\space\\space \\Rightarrow \\space\\space\\space \\big|\\big|A(x-x')\\big|\\big| = \\big|\\big|Ax-Ax'\\big|\\big| = \\big|\\big|y-y\\big|\\big| = 0 $  \n",
    "So I can conclude $(1-\\delta)\\big|\\big|x_0-x'\\big|\\big| \\leq 0 \\leq (1+\\delta)\\big|\\big|x_0-x'\\big|\\big|$  \n",
    "\n",
    "#### Step 3:\n",
    "So if $\\delta<1$ I can see that this $(1-\\delta)\\big|\\big|x_0-x'\\big|\\big| \\leq 0 \\space\\space \\Rightarrow \\space\\space c\\big|\\big|x_0-x'\\big|\\big| \\leq 0$ while c must be positive, so $\\big|\\big|x_0-x'\\big|\\big| \\leq 0$\n",
    "\n",
    "$\\space\\space\\space\\space(1-\\delta)\\big|\\big|x_0-x'\\big|\\big| \\leq 0 \\leq (1+\\delta)\\big|\\big|x_0-x'\\big|\\big| \\space  \\space \\Rightarrow  \\space\\space\\space\\space C_1 \\big|\\big|x_0-x'\\big|\\big| \\leq 0 \\leq C_2\\big|\\big|x_0-x'\\big|\\big| \\space\\space\\Rightarrow $    \n",
    "while C_1,C2 is positives numbers so I can divide each side by it's respective C then  \n",
    "$\\space\\space\\Rightarrow  \\big|\\big|x_0-x'\\big|\\big| \\leq 0 \\leq \\big|\\big|x_0-x'\\big|\\big| \\space\\space\\Rightarrow $   \n",
    "So in order for this to still be true it must be equal to zero   \n",
    "$\\space\\space\\Rightarrow  \\big|\\big|x_0-x'\\big|\\big| = 0 \\space\\space\\Rightarrow \\space\\space x_0=x'$  \n",
    "Therefore my assumption that $x_0 \\neq x'$ Contridict itself.  \n",
    "And I could prove that there is only one unique solution.  \n",
    "Done!\n"
   ]
  }
 ],
 "metadata": {
  "kernelspec": {
   "display_name": "Python 3",
   "language": "python",
   "name": "python3"
  },
  "language_info": {
   "codemirror_mode": {
    "name": "ipython",
    "version": 3
   },
   "file_extension": ".py",
   "mimetype": "text/x-python",
   "name": "python",
   "nbconvert_exporter": "python",
   "pygments_lexer": "ipython3",
   "version": "3.6.5"
  }
 },
 "nbformat": 4,
 "nbformat_minor": 2
}
