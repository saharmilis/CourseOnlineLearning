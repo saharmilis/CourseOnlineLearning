{
 "cells": [
  {
   "cell_type": "markdown",
   "metadata": {},
   "source": [
    "# Data Streaming Algorithms and Online Learning\n",
    "## HW 3 - Netflix Problem Revisited\n",
    "by Millis Sahar"
   ]
  },
  {
   "cell_type": "code",
   "execution_count": 2,
   "metadata": {},
   "outputs": [],
   "source": [
    "import numpy as np\n",
    "import pandas as pd\n",
    "\n"
   ]
  },
  {
   "cell_type": "markdown",
   "metadata": {},
   "source": [
    "# Download the MovieLens 1M dataset \n",
    "[https://grouplens.org/datasets/movielens/1m/]   \n",
    "whichcontains 1 million ratings from 6000 users on 4000 movies.\n"
   ]
  },
  {
   "cell_type": "markdown",
   "metadata": {},
   "source": [
    "##### ratings df"
   ]
  },
  {
   "cell_type": "code",
   "execution_count": 99,
   "metadata": {},
   "outputs": [
    {
     "data": {
      "text/html": [
       "<div>\n",
       "<style scoped>\n",
       "    .dataframe tbody tr th:only-of-type {\n",
       "        vertical-align: middle;\n",
       "    }\n",
       "\n",
       "    .dataframe tbody tr th {\n",
       "        vertical-align: top;\n",
       "    }\n",
       "\n",
       "    .dataframe thead th {\n",
       "        text-align: right;\n",
       "    }\n",
       "</style>\n",
       "<table border=\"1\" class=\"dataframe\">\n",
       "  <thead>\n",
       "    <tr style=\"text-align: right;\">\n",
       "      <th></th>\n",
       "      <th>UserID</th>\n",
       "      <th>MovieID</th>\n",
       "      <th>Rating</th>\n",
       "      <th>Timestamp</th>\n",
       "    </tr>\n",
       "  </thead>\n",
       "  <tbody>\n",
       "    <tr>\n",
       "      <th>0</th>\n",
       "      <td>1</td>\n",
       "      <td>1193</td>\n",
       "      <td>5</td>\n",
       "      <td>978300760</td>\n",
       "    </tr>\n",
       "    <tr>\n",
       "      <th>1</th>\n",
       "      <td>1</td>\n",
       "      <td>661</td>\n",
       "      <td>3</td>\n",
       "      <td>978302109</td>\n",
       "    </tr>\n",
       "    <tr>\n",
       "      <th>2</th>\n",
       "      <td>1</td>\n",
       "      <td>914</td>\n",
       "      <td>3</td>\n",
       "      <td>978301968</td>\n",
       "    </tr>\n",
       "    <tr>\n",
       "      <th>3</th>\n",
       "      <td>1</td>\n",
       "      <td>3408</td>\n",
       "      <td>4</td>\n",
       "      <td>978300275</td>\n",
       "    </tr>\n",
       "    <tr>\n",
       "      <th>4</th>\n",
       "      <td>1</td>\n",
       "      <td>2355</td>\n",
       "      <td>5</td>\n",
       "      <td>978824291</td>\n",
       "    </tr>\n",
       "  </tbody>\n",
       "</table>\n",
       "</div>"
      ],
      "text/plain": [
       "   UserID  MovieID  Rating  Timestamp\n",
       "0       1     1193       5  978300760\n",
       "1       1      661       3  978302109\n",
       "2       1      914       3  978301968\n",
       "3       1     3408       4  978300275\n",
       "4       1     2355       5  978824291"
      ]
     },
     "execution_count": 99,
     "metadata": {},
     "output_type": "execute_result"
    }
   ],
   "source": [
    "ratings_list = [i.strip().split(\"::\") for i in open('ratings.dat', 'r').readlines()]\n",
    "rating_df = pd.DataFrame(ratings_list, columns = ['UserID', 'MovieID', 'Rating', 'Timestamp'], dtype = int)\n",
    "rating_df['Rating']=rating_df['Rating'].apply(pd.to_numeric)\n",
    "rating_df.head()"
   ]
  },
  {
   "cell_type": "markdown",
   "metadata": {},
   "source": [
    "###### users df"
   ]
  },
  {
   "cell_type": "code",
   "execution_count": null,
   "metadata": {},
   "outputs": [],
   "source": [
    "users_list = [i.strip().split(\"::\") for i in open('users.dat', 'r').readlines()]\n",
    "users_df = pd.DataFrame(users_list, columns = ['UserID', 'Gender', 'Age', 'Occupation','Zip-code'], dtype = int)\n",
    "# users_df.head()"
   ]
  },
  {
   "cell_type": "markdown",
   "metadata": {},
   "source": [
    "##### movies df"
   ]
  },
  {
   "cell_type": "code",
   "execution_count": null,
   "metadata": {},
   "outputs": [],
   "source": [
    "movies_list = [i.strip().split(\"::\") for i in open('movies.dat', 'r').readlines()]\n",
    "movies_df = pd.DataFrame(movies_list, columns = ['MovieID', 'Title', 'Genres'], dtype = int)\n",
    "# movies_df.head()"
   ]
  },
  {
   "cell_type": "markdown",
   "metadata": {},
   "source": [
    "##### Your goal: recover the cleared ratings with highest RMSE accuracy using a MATRIX COMPLETION method.\n",
    "Sample 1000 of the given ratings matrix using seed of 123 and “clear them”. i.e., create a new ratings matrix without these samples\n",
    "\n"
   ]
  },
  {
   "cell_type": "code",
   "execution_count": 100,
   "metadata": {},
   "outputs": [
    {
     "data": {
      "text/html": [
       "<div>\n",
       "<style scoped>\n",
       "    .dataframe tbody tr th:only-of-type {\n",
       "        vertical-align: middle;\n",
       "    }\n",
       "\n",
       "    .dataframe tbody tr th {\n",
       "        vertical-align: top;\n",
       "    }\n",
       "\n",
       "    .dataframe thead th {\n",
       "        text-align: right;\n",
       "    }\n",
       "</style>\n",
       "<table border=\"1\" class=\"dataframe\">\n",
       "  <thead>\n",
       "    <tr style=\"text-align: right;\">\n",
       "      <th></th>\n",
       "      <th>UserID</th>\n",
       "      <th>MovieID</th>\n",
       "      <th>Rating</th>\n",
       "      <th>Timestamp</th>\n",
       "    </tr>\n",
       "  </thead>\n",
       "  <tbody>\n",
       "    <tr>\n",
       "      <th>382276</th>\n",
       "      <td>2233</td>\n",
       "      <td>440</td>\n",
       "      <td>4</td>\n",
       "      <td>974597580</td>\n",
       "    </tr>\n",
       "    <tr>\n",
       "      <th>712314</th>\n",
       "      <td>4274</td>\n",
       "      <td>587</td>\n",
       "      <td>5</td>\n",
       "      <td>965301765</td>\n",
       "    </tr>\n",
       "    <tr>\n",
       "      <th>415052</th>\n",
       "      <td>2498</td>\n",
       "      <td>454</td>\n",
       "      <td>3</td>\n",
       "      <td>974089255</td>\n",
       "    </tr>\n",
       "    <tr>\n",
       "      <th>465169</th>\n",
       "      <td>2868</td>\n",
       "      <td>2336</td>\n",
       "      <td>5</td>\n",
       "      <td>992717615</td>\n",
       "    </tr>\n",
       "    <tr>\n",
       "      <th>270413</th>\n",
       "      <td>1636</td>\n",
       "      <td>2686</td>\n",
       "      <td>5</td>\n",
       "      <td>974962900</td>\n",
       "    </tr>\n",
       "  </tbody>\n",
       "</table>\n",
       "</div>"
      ],
      "text/plain": [
       "        UserID  MovieID  Rating  Timestamp\n",
       "382276    2233      440       4  974597580\n",
       "712314    4274      587       5  965301765\n",
       "415052    2498      454       3  974089255\n",
       "465169    2868     2336       5  992717615\n",
       "270413    1636     2686       5  974962900"
      ]
     },
     "execution_count": 100,
     "metadata": {},
     "output_type": "execute_result"
    }
   ],
   "source": [
    "# random seed\n",
    "np.random.seed(123)\n",
    "\n",
    "# sample 1k\n",
    "test_df = rating_df.sample(n=10)\n",
    "\n",
    "# clear info\n",
    "rating_df.loc[test_df.index,'Rating'] = 0 \n",
    "\n",
    "test_df.head()"
   ]
  },
  {
   "cell_type": "markdown",
   "metadata": {},
   "source": [
    "##### Additional instructions\n",
    "\n",
    "- You may use the methods from class OR any other method you would like,but it must be a matrix completion method, namely a method which completes the given partially-observed matrix.  \n",
    "- You may use the jupyter notebook uploaded in Lecture 8 for the pre-processing  \n",
    "- You may use any programming language.  \n"
   ]
  },
  {
   "cell_type": "markdown",
   "metadata": {},
   "source": [
    "#### Requirements for submission\n",
    "- Your full implementation code (including the pre-processing steps above).  \n",
    "- Resulting predictions and RMSE.  \n",
    "- A short report summarizing your efforts and insights of the problem.  \n",
    "- Bonus points will be given for creative approaches and ideas.  \n",
    "- You are highly encouraged to consult, implement and use the SVT method, which was taught in class:\n",
    "    - [CCS10] Jian-Feng Cai, Emmanuel J. Candes, and Zuowei Shen. A singular value threshold- ing algorithm for matrix completion. SIAM J. on Optimization, 20(4):1956–1982, March 2010.  \n",
    "    - As mentioned in class- it may be very interesting to study and analyze the effect of the various parameters in this algorithm (e.g., delta) on the convergence, accuracy, etc."
   ]
  },
  {
   "cell_type": "markdown",
   "metadata": {},
   "source": [
    "# Exploratory  Analysis"
   ]
  },
  {
   "cell_type": "markdown",
   "metadata": {},
   "source": [
    "##### unique users and movies"
   ]
  },
  {
   "cell_type": "code",
   "execution_count": 101,
   "metadata": {},
   "outputs": [
    {
     "name": "stdout",
     "output_type": "stream",
     "text": [
      "Number of users = 6040\n",
      "Number of movies = 3706\n"
     ]
    }
   ],
   "source": [
    "n_users = rating_df.UserID.unique().shape[0]\n",
    "n_movies = rating_df.MovieID.unique().shape[0]\n",
    "print('Number of users = ' + str(n_users))\n",
    "print('Number of movies = ' + str(n_movies))"
   ]
  },
  {
   "cell_type": "markdown",
   "metadata": {},
   "source": [
    "##### ratings matrix\n",
    "one row per user and one column per movie. \n",
    "To do so, I'll pivot ratings to get that and call the new variable Ratings."
   ]
  },
  {
   "cell_type": "code",
   "execution_count": 102,
   "metadata": {},
   "outputs": [],
   "source": [
    "Ratings = rating_df.pivot(index = 'UserID', columns ='MovieID', values = 'Rating').fillna(0)\n",
    "# Ratings.head()"
   ]
  },
  {
   "cell_type": "markdown",
   "metadata": {},
   "source": [
    "##### convert matrix from a dataframe to a numpy array"
   ]
  },
  {
   "cell_type": "code",
   "execution_count": 103,
   "metadata": {},
   "outputs": [],
   "source": [
    "R = Ratings.values"
   ]
  },
  {
   "cell_type": "markdown",
   "metadata": {},
   "source": [
    "##### normalize by each users mean"
   ]
  },
  {
   "cell_type": "code",
   "execution_count": 104,
   "metadata": {},
   "outputs": [],
   "source": [
    "Ratings_means = np.mean(R, axis = 1)\n",
    "Ratings_demeaned = R - Ratings_means.reshape(-1, 1)"
   ]
  },
  {
   "cell_type": "markdown",
   "metadata": {},
   "source": [
    "##### Sparse?"
   ]
  },
  {
   "cell_type": "code",
   "execution_count": 105,
   "metadata": {},
   "outputs": [
    {
     "data": {
      "text/plain": [
       "'95.53%'"
      ]
     },
     "execution_count": 105,
     "metadata": {},
     "output_type": "execute_result"
    }
   ],
   "source": [
    "str(round((1-np.count_nonzero(Ratings)/Ratings.size)*100,2))+'%'"
   ]
  },
  {
   "cell_type": "markdown",
   "metadata": {},
   "source": [
    "# SVD"
   ]
  },
  {
   "cell_type": "code",
   "execution_count": 106,
   "metadata": {},
   "outputs": [],
   "source": [
    "from scipy.sparse.linalg import svds\n",
    "\n",
    "#parameters \n",
    "param_k = 150\n",
    "\n",
    "# UIV\n",
    "U, sigma, Vt = svds(Ratings_demeaned, k = param_k)\n",
    "\n",
    "# diagonal\n",
    "sigma = np.diag(sigma)\n"
   ]
  },
  {
   "cell_type": "code",
   "execution_count": 107,
   "metadata": {},
   "outputs": [],
   "source": [
    "all_user_predicted_ratings = np.dot(np.dot(U, sigma), Vt) + Ratings_means.reshape(-1, 1)"
   ]
  },
  {
   "cell_type": "code",
   "execution_count": 108,
   "metadata": {},
   "outputs": [
    {
     "data": {
      "text/html": [
       "<div>\n",
       "<style scoped>\n",
       "    .dataframe tbody tr th:only-of-type {\n",
       "        vertical-align: middle;\n",
       "    }\n",
       "\n",
       "    .dataframe tbody tr th {\n",
       "        vertical-align: top;\n",
       "    }\n",
       "\n",
       "    .dataframe thead th {\n",
       "        text-align: right;\n",
       "    }\n",
       "</style>\n",
       "<table border=\"1\" class=\"dataframe\">\n",
       "  <thead>\n",
       "    <tr style=\"text-align: right;\">\n",
       "      <th>MovieID</th>\n",
       "      <th>1</th>\n",
       "      <th>2</th>\n",
       "      <th>3</th>\n",
       "      <th>4</th>\n",
       "      <th>5</th>\n",
       "      <th>6</th>\n",
       "      <th>7</th>\n",
       "      <th>8</th>\n",
       "      <th>9</th>\n",
       "      <th>10</th>\n",
       "      <th>...</th>\n",
       "      <th>3943</th>\n",
       "      <th>3944</th>\n",
       "      <th>3945</th>\n",
       "      <th>3946</th>\n",
       "      <th>3947</th>\n",
       "      <th>3948</th>\n",
       "      <th>3949</th>\n",
       "      <th>3950</th>\n",
       "      <th>3951</th>\n",
       "      <th>3952</th>\n",
       "    </tr>\n",
       "  </thead>\n",
       "  <tbody>\n",
       "    <tr>\n",
       "      <th>0</th>\n",
       "      <td>4.560131</td>\n",
       "      <td>0.299027</td>\n",
       "      <td>0.292506</td>\n",
       "      <td>-0.004703</td>\n",
       "      <td>-0.014791</td>\n",
       "      <td>-0.379549</td>\n",
       "      <td>-0.077952</td>\n",
       "      <td>0.063209</td>\n",
       "      <td>0.035995</td>\n",
       "      <td>-0.363389</td>\n",
       "      <td>...</td>\n",
       "      <td>0.003811</td>\n",
       "      <td>-0.009760</td>\n",
       "      <td>-0.001084</td>\n",
       "      <td>-0.084464</td>\n",
       "      <td>-0.084585</td>\n",
       "      <td>0.177947</td>\n",
       "      <td>0.100308</td>\n",
       "      <td>0.026234</td>\n",
       "      <td>0.097888</td>\n",
       "      <td>-0.062766</td>\n",
       "    </tr>\n",
       "    <tr>\n",
       "      <th>1</th>\n",
       "      <td>0.327708</td>\n",
       "      <td>-0.006495</td>\n",
       "      <td>0.414506</td>\n",
       "      <td>0.058106</td>\n",
       "      <td>0.067796</td>\n",
       "      <td>1.250657</td>\n",
       "      <td>-0.194928</td>\n",
       "      <td>0.073968</td>\n",
       "      <td>0.044295</td>\n",
       "      <td>1.872875</td>\n",
       "      <td>...</td>\n",
       "      <td>-0.101543</td>\n",
       "      <td>0.000932</td>\n",
       "      <td>-0.020406</td>\n",
       "      <td>0.010098</td>\n",
       "      <td>0.083853</td>\n",
       "      <td>-0.674775</td>\n",
       "      <td>-0.203750</td>\n",
       "      <td>0.040747</td>\n",
       "      <td>0.062167</td>\n",
       "      <td>0.129198</td>\n",
       "    </tr>\n",
       "    <tr>\n",
       "      <th>2</th>\n",
       "      <td>1.148962</td>\n",
       "      <td>0.613345</td>\n",
       "      <td>0.051260</td>\n",
       "      <td>-0.044536</td>\n",
       "      <td>-0.012455</td>\n",
       "      <td>0.068508</td>\n",
       "      <td>0.063193</td>\n",
       "      <td>-0.015942</td>\n",
       "      <td>0.013170</td>\n",
       "      <td>1.208501</td>\n",
       "      <td>...</td>\n",
       "      <td>0.042750</td>\n",
       "      <td>-0.008885</td>\n",
       "      <td>0.025181</td>\n",
       "      <td>0.067866</td>\n",
       "      <td>-0.000627</td>\n",
       "      <td>0.004460</td>\n",
       "      <td>0.242074</td>\n",
       "      <td>0.047154</td>\n",
       "      <td>0.029182</td>\n",
       "      <td>-0.060645</td>\n",
       "    </tr>\n",
       "    <tr>\n",
       "      <th>3</th>\n",
       "      <td>-0.167782</td>\n",
       "      <td>0.360357</td>\n",
       "      <td>0.060695</td>\n",
       "      <td>0.025640</td>\n",
       "      <td>-0.065263</td>\n",
       "      <td>-0.345853</td>\n",
       "      <td>-0.047359</td>\n",
       "      <td>0.003655</td>\n",
       "      <td>-0.022004</td>\n",
       "      <td>-0.272025</td>\n",
       "      <td>...</td>\n",
       "      <td>0.009402</td>\n",
       "      <td>0.009354</td>\n",
       "      <td>0.020106</td>\n",
       "      <td>-0.015052</td>\n",
       "      <td>-0.002313</td>\n",
       "      <td>-0.060564</td>\n",
       "      <td>-0.019349</td>\n",
       "      <td>0.024983</td>\n",
       "      <td>0.063655</td>\n",
       "      <td>-0.079681</td>\n",
       "    </tr>\n",
       "    <tr>\n",
       "      <th>4</th>\n",
       "      <td>-0.225662</td>\n",
       "      <td>-0.430000</td>\n",
       "      <td>-0.007721</td>\n",
       "      <td>0.135879</td>\n",
       "      <td>-0.211104</td>\n",
       "      <td>1.317622</td>\n",
       "      <td>-0.102276</td>\n",
       "      <td>-0.020951</td>\n",
       "      <td>-0.201545</td>\n",
       "      <td>-0.011815</td>\n",
       "      <td>...</td>\n",
       "      <td>0.143578</td>\n",
       "      <td>0.072150</td>\n",
       "      <td>-0.004047</td>\n",
       "      <td>-0.039035</td>\n",
       "      <td>-0.162658</td>\n",
       "      <td>-0.270390</td>\n",
       "      <td>0.400715</td>\n",
       "      <td>0.019016</td>\n",
       "      <td>0.100691</td>\n",
       "      <td>0.248009</td>\n",
       "    </tr>\n",
       "  </tbody>\n",
       "</table>\n",
       "<p>5 rows × 3706 columns</p>\n",
       "</div>"
      ],
      "text/plain": [
       "MovieID      1         2         3         4         5         6         7     \\\n",
       "0        4.560131  0.299027  0.292506 -0.004703 -0.014791 -0.379549 -0.077952   \n",
       "1        0.327708 -0.006495  0.414506  0.058106  0.067796  1.250657 -0.194928   \n",
       "2        1.148962  0.613345  0.051260 -0.044536 -0.012455  0.068508  0.063193   \n",
       "3       -0.167782  0.360357  0.060695  0.025640 -0.065263 -0.345853 -0.047359   \n",
       "4       -0.225662 -0.430000 -0.007721  0.135879 -0.211104  1.317622 -0.102276   \n",
       "\n",
       "MovieID      8         9         10      ...         3943      3944      3945  \\\n",
       "0        0.063209  0.035995 -0.363389    ...     0.003811 -0.009760 -0.001084   \n",
       "1        0.073968  0.044295  1.872875    ...    -0.101543  0.000932 -0.020406   \n",
       "2       -0.015942  0.013170  1.208501    ...     0.042750 -0.008885  0.025181   \n",
       "3        0.003655 -0.022004 -0.272025    ...     0.009402  0.009354  0.020106   \n",
       "4       -0.020951 -0.201545 -0.011815    ...     0.143578  0.072150 -0.004047   \n",
       "\n",
       "MovieID      3946      3947      3948      3949      3950      3951      3952  \n",
       "0       -0.084464 -0.084585  0.177947  0.100308  0.026234  0.097888 -0.062766  \n",
       "1        0.010098  0.083853 -0.674775 -0.203750  0.040747  0.062167  0.129198  \n",
       "2        0.067866 -0.000627  0.004460  0.242074  0.047154  0.029182 -0.060645  \n",
       "3       -0.015052 -0.002313 -0.060564 -0.019349  0.024983  0.063655 -0.079681  \n",
       "4       -0.039035 -0.162658 -0.270390  0.400715  0.019016  0.100691  0.248009  \n",
       "\n",
       "[5 rows x 3706 columns]"
      ]
     },
     "execution_count": 108,
     "metadata": {},
     "output_type": "execute_result"
    }
   ],
   "source": [
    "preds = pd.DataFrame(all_user_predicted_ratings, columns = Ratings.columns)\n",
    "preds.head()"
   ]
  },
  {
   "cell_type": "code",
   "execution_count": 109,
   "metadata": {},
   "outputs": [
    {
     "data": {
      "text/plain": [
       "0.10330241276898389"
      ]
     },
     "execution_count": 109,
     "metadata": {},
     "output_type": "execute_result"
    }
   ],
   "source": [
    "np.count_nonzero(np.round(preds))/preds.size"
   ]
  },
  {
   "cell_type": "code",
   "execution_count": 142,
   "metadata": {},
   "outputs": [
    {
     "data": {
      "text/html": [
       "<div>\n",
       "<style scoped>\n",
       "    .dataframe tbody tr th:only-of-type {\n",
       "        vertical-align: middle;\n",
       "    }\n",
       "\n",
       "    .dataframe tbody tr th {\n",
       "        vertical-align: top;\n",
       "    }\n",
       "\n",
       "    .dataframe thead th {\n",
       "        text-align: right;\n",
       "    }\n",
       "</style>\n",
       "<table border=\"1\" class=\"dataframe\">\n",
       "  <thead>\n",
       "    <tr style=\"text-align: right;\">\n",
       "      <th>MovieID</th>\n",
       "      <th>1</th>\n",
       "      <th>2</th>\n",
       "      <th>3</th>\n",
       "      <th>4</th>\n",
       "      <th>5</th>\n",
       "      <th>6</th>\n",
       "      <th>7</th>\n",
       "      <th>8</th>\n",
       "      <th>9</th>\n",
       "      <th>10</th>\n",
       "      <th>...</th>\n",
       "      <th>3943</th>\n",
       "      <th>3944</th>\n",
       "      <th>3945</th>\n",
       "      <th>3946</th>\n",
       "      <th>3947</th>\n",
       "      <th>3948</th>\n",
       "      <th>3949</th>\n",
       "      <th>3950</th>\n",
       "      <th>3951</th>\n",
       "      <th>3952</th>\n",
       "    </tr>\n",
       "  </thead>\n",
       "  <tbody>\n",
       "    <tr>\n",
       "      <th>0</th>\n",
       "      <td>4.560131</td>\n",
       "      <td>0.299027</td>\n",
       "      <td>0.292506</td>\n",
       "      <td>-0.004703</td>\n",
       "      <td>-0.014791</td>\n",
       "      <td>-0.379549</td>\n",
       "      <td>-0.077952</td>\n",
       "      <td>0.063209</td>\n",
       "      <td>0.035995</td>\n",
       "      <td>-0.363389</td>\n",
       "      <td>...</td>\n",
       "      <td>0.003811</td>\n",
       "      <td>-0.009760</td>\n",
       "      <td>-0.001084</td>\n",
       "      <td>-0.084464</td>\n",
       "      <td>-0.084585</td>\n",
       "      <td>0.177947</td>\n",
       "      <td>0.100308</td>\n",
       "      <td>0.026234</td>\n",
       "      <td>0.097888</td>\n",
       "      <td>-0.062766</td>\n",
       "    </tr>\n",
       "    <tr>\n",
       "      <th>1</th>\n",
       "      <td>0.327708</td>\n",
       "      <td>-0.006495</td>\n",
       "      <td>0.414506</td>\n",
       "      <td>0.058106</td>\n",
       "      <td>0.067796</td>\n",
       "      <td>1.250657</td>\n",
       "      <td>-0.194928</td>\n",
       "      <td>0.073968</td>\n",
       "      <td>0.044295</td>\n",
       "      <td>1.872875</td>\n",
       "      <td>...</td>\n",
       "      <td>-0.101543</td>\n",
       "      <td>0.000932</td>\n",
       "      <td>-0.020406</td>\n",
       "      <td>0.010098</td>\n",
       "      <td>0.083853</td>\n",
       "      <td>-0.674775</td>\n",
       "      <td>-0.203750</td>\n",
       "      <td>0.040747</td>\n",
       "      <td>0.062167</td>\n",
       "      <td>0.129198</td>\n",
       "    </tr>\n",
       "    <tr>\n",
       "      <th>2</th>\n",
       "      <td>1.148962</td>\n",
       "      <td>0.613345</td>\n",
       "      <td>0.051260</td>\n",
       "      <td>-0.044536</td>\n",
       "      <td>-0.012455</td>\n",
       "      <td>0.068508</td>\n",
       "      <td>0.063193</td>\n",
       "      <td>-0.015942</td>\n",
       "      <td>0.013170</td>\n",
       "      <td>1.208501</td>\n",
       "      <td>...</td>\n",
       "      <td>0.042750</td>\n",
       "      <td>-0.008885</td>\n",
       "      <td>0.025181</td>\n",
       "      <td>0.067866</td>\n",
       "      <td>-0.000627</td>\n",
       "      <td>0.004460</td>\n",
       "      <td>0.242074</td>\n",
       "      <td>0.047154</td>\n",
       "      <td>0.029182</td>\n",
       "      <td>-0.060645</td>\n",
       "    </tr>\n",
       "    <tr>\n",
       "      <th>3</th>\n",
       "      <td>-0.167782</td>\n",
       "      <td>0.360357</td>\n",
       "      <td>0.060695</td>\n",
       "      <td>0.025640</td>\n",
       "      <td>-0.065263</td>\n",
       "      <td>-0.345853</td>\n",
       "      <td>-0.047359</td>\n",
       "      <td>0.003655</td>\n",
       "      <td>-0.022004</td>\n",
       "      <td>-0.272025</td>\n",
       "      <td>...</td>\n",
       "      <td>0.009402</td>\n",
       "      <td>0.009354</td>\n",
       "      <td>0.020106</td>\n",
       "      <td>-0.015052</td>\n",
       "      <td>-0.002313</td>\n",
       "      <td>-0.060564</td>\n",
       "      <td>-0.019349</td>\n",
       "      <td>0.024983</td>\n",
       "      <td>0.063655</td>\n",
       "      <td>-0.079681</td>\n",
       "    </tr>\n",
       "    <tr>\n",
       "      <th>4</th>\n",
       "      <td>-0.225662</td>\n",
       "      <td>-0.430000</td>\n",
       "      <td>-0.007721</td>\n",
       "      <td>0.135879</td>\n",
       "      <td>-0.211104</td>\n",
       "      <td>1.317622</td>\n",
       "      <td>-0.102276</td>\n",
       "      <td>-0.020951</td>\n",
       "      <td>-0.201545</td>\n",
       "      <td>-0.011815</td>\n",
       "      <td>...</td>\n",
       "      <td>0.143578</td>\n",
       "      <td>0.072150</td>\n",
       "      <td>-0.004047</td>\n",
       "      <td>-0.039035</td>\n",
       "      <td>-0.162658</td>\n",
       "      <td>-0.270390</td>\n",
       "      <td>0.400715</td>\n",
       "      <td>0.019016</td>\n",
       "      <td>0.100691</td>\n",
       "      <td>0.248009</td>\n",
       "    </tr>\n",
       "  </tbody>\n",
       "</table>\n",
       "<p>5 rows × 3706 columns</p>\n",
       "</div>"
      ],
      "text/plain": [
       "MovieID      1         2         3         4         5         6         7     \\\n",
       "0        4.560131  0.299027  0.292506 -0.004703 -0.014791 -0.379549 -0.077952   \n",
       "1        0.327708 -0.006495  0.414506  0.058106  0.067796  1.250657 -0.194928   \n",
       "2        1.148962  0.613345  0.051260 -0.044536 -0.012455  0.068508  0.063193   \n",
       "3       -0.167782  0.360357  0.060695  0.025640 -0.065263 -0.345853 -0.047359   \n",
       "4       -0.225662 -0.430000 -0.007721  0.135879 -0.211104  1.317622 -0.102276   \n",
       "\n",
       "MovieID      8         9         10      ...         3943      3944      3945  \\\n",
       "0        0.063209  0.035995 -0.363389    ...     0.003811 -0.009760 -0.001084   \n",
       "1        0.073968  0.044295  1.872875    ...    -0.101543  0.000932 -0.020406   \n",
       "2       -0.015942  0.013170  1.208501    ...     0.042750 -0.008885  0.025181   \n",
       "3        0.003655 -0.022004 -0.272025    ...     0.009402  0.009354  0.020106   \n",
       "4       -0.020951 -0.201545 -0.011815    ...     0.143578  0.072150 -0.004047   \n",
       "\n",
       "MovieID      3946      3947      3948      3949      3950      3951      3952  \n",
       "0       -0.084464 -0.084585  0.177947  0.100308  0.026234  0.097888 -0.062766  \n",
       "1        0.010098  0.083853 -0.674775 -0.203750  0.040747  0.062167  0.129198  \n",
       "2        0.067866 -0.000627  0.004460  0.242074  0.047154  0.029182 -0.060645  \n",
       "3       -0.015052 -0.002313 -0.060564 -0.019349  0.024983  0.063655 -0.079681  \n",
       "4       -0.039035 -0.162658 -0.270390  0.400715  0.019016  0.100691  0.248009  \n",
       "\n",
       "[5 rows x 3706 columns]"
      ]
     },
     "execution_count": 142,
     "metadata": {},
     "output_type": "execute_result"
    }
   ],
   "source": [
    "d = pd.DataFrame(columns=['target','prediction'])\n",
    "\n",
    "\n",
    "for r in test_df.iterrows():\n",
    "    d = d.append({'UserID':r[1][0],'MovieID':r[1][1],'target':r[1][2]},ignore_index=True)\n",
    "    break\n",
    "d.head()\n",
    "\n",
    "preds.head()"
   ]
  }
 ],
 "metadata": {
  "kernelspec": {
   "display_name": "Python 3",
   "language": "python",
   "name": "python3"
  },
  "language_info": {
   "codemirror_mode": {
    "name": "ipython",
    "version": 3
   },
   "file_extension": ".py",
   "mimetype": "text/x-python",
   "name": "python",
   "nbconvert_exporter": "python",
   "pygments_lexer": "ipython3",
   "version": "3.6.5"
  }
 },
 "nbformat": 4,
 "nbformat_minor": 2
}
